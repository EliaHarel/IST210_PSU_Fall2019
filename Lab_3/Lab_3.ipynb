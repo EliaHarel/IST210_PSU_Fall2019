{
  "nbformat": 4,
  "nbformat_minor": 0,
  "metadata": {
    "colab": {
      "name": "Lab 3.ipynb",
      "provenance": [],
      "collapsed_sections": []
    },
    "kernelspec": {
      "name": "python3",
      "display_name": "Python 3"
    }
  },
  "cells": [
    {
      "cell_type": "markdown",
      "metadata": {
        "id": "hnjLZbsSA8_8",
        "colab_type": "text"
      },
      "source": [
        "\n",
        "#Pet Store\n",
        "\n",
        "\n",
        "Our store’s database includes Animals, Transactions, Habitats, Food, Loyalty Card.\n",
        "\n",
        "\\\n",
        "\n",
        "We have a animals table to keep track of all the pets in the store, their kind (fish or pet)\n",
        "Animals table is connected to Food table, to Habitats table and to the Transactions table.\n",
        "for each animal we have the key of the food that it eats, we have the key of the habitat it kept at, and we have the transaction that was made to buy it (if such transaction has happened).\n",
        "\n",
        "\\\n",
        "\n",
        "\n",
        "The Habitat table is meant to help us keep track of what type of habitat each pet is being kept at (Habitat Type attribute, aquariums or enclosures), and what specific habitat they are kept at (habitatID attribute).\n",
        "The Habitat table is only connected to the Animal table, in which we have the ID of the animal that is kept at that specific habitat.\n",
        "\n",
        "\\\n",
        "\n",
        "The Food table is meant to keep track of the different kind of foods, their prices, the amount of food we have in our store’s inventory and the amount of food we are able to sell each day (because we use the inventory food to feed the pets that are currently kept in the store).\n",
        "The Food table is connected to the Animals table and to the Transaction table, in which we have the id of the animal that eats that kind of food. In the transaction attribute we have the transaction id that was made to buy a certain amount of the type of food (if such transaction has happened).\n",
        "\n",
        "\\\n",
        "\n",
        "\n",
        "We have Transactions table that help us keep track of our sales (expense report), in each transaction we can see if that transaction was made for buying an animal or buying food according to the attribute of Transaction Type, after checking that we can know which attribute to use to go to the relevant table for more information (AnimalID and FoodID).\n",
        "in addition for each transaction we have the date in which it was made at.\n",
        "Transaction table is connected to the Animals table and Food table, for knowing which specific food or animal was purchased in that transaction.\n",
        "in addition we have a connection to the Loyalty Card table, which shows us if the buyer is a customer that is a member of our loyalty program, and if so, what is his loyaltyID number.\n",
        "\n",
        "\\\n",
        "\n",
        "we have a Loyalty Card table, in which we keep track of our loyalty program customers, and some of their details.\n",
        "Loyalty Card table is connected to the Transactions table, in that way we can keep track of all of the transaction that have been made by a certain loyal customer.\n",
        "\n",
        "\n",
        "#ERD\n",
        "\n",
        "![alt text](https://i.postimg.cc/PxpTDSrH/Lab2.png)\n",
        "\n"
      ]
    }
  ]
}