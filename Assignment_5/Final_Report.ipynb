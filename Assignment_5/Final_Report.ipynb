{
  "nbformat": 4,
  "nbformat_minor": 0,
  "metadata": {
    "colab": {
      "name": "Assignment_5/Final_Report.ipynb",
      "provenance": [],
      "collapsed_sections": [],
      "include_colab_link": true
    },
    "kernelspec": {
      "name": "python3",
      "display_name": "Python 3"
    }
  },
  "cells": [
    {
      "cell_type": "markdown",
      "metadata": {
        "id": "view-in-github",
        "colab_type": "text"
      },
      "source": [
        "<a href=\"https://colab.research.google.com/github/EliaHarel/IST210_PSU_Fall2019/blob/master/Assignment_5/Final_Report.ipynb\" target=\"_parent\"><img src=\"https://colab.research.google.com/assets/colab-badge.svg\" alt=\"Open In Colab\"/></a>"
      ]
    },
    {
      "cell_type": "markdown",
      "metadata": {
        "id": "soMymuH6NiMZ",
        "colab_type": "text"
      },
      "source": [
        "#Best Buy\n",
        "\n",
        "#TODO introduction (100 - 250 words)\n",
        "This will include why you picked this project, how you started this project, and how you got to your final ER diagram."
      ]
    },
    {
      "cell_type": "code",
      "metadata": {
        "id": "P0gEhtj6R9vu",
        "colab_type": "code",
        "colab": {}
      },
      "source": [
        "from IPython.display import HTML\n",
        "HTML('<ifrme width=\"560\" height=\"315\" src=\"./Group_Assignment_3_video.mp4\" frameborder=\"0\" allowfullscreen></iframe>')\n"
      ],
      "execution_count": 0,
      "outputs": []
    },
    {
      "cell_type": "markdown",
      "metadata": {
        "id": "l-_rtSBdNqBs",
        "colab_type": "text"
      },
      "source": [
        " (video from group assignment 3)\n",
        "\n",
        "\n"
      ]
    },
    {
      "cell_type": "markdown",
      "metadata": {
        "id": "iV6mi5tPSUOV",
        "colab_type": "text"
      },
      "source": [
        "##Our ER Diagram\n",
        "\n",
        "![alt text](../Assignment_4/Best_Buy_ERD.png)"
      ]
    },
    {
      "cell_type": "markdown",
      "metadata": {
        "id": "8kTfJ9k_UaFn",
        "colab_type": "text"
      },
      "source": [
        "- Discuss any specifics in regards to your ER Diagram (100 - 250 words)"
      ]
    },
    {
      "cell_type": "markdown",
      "metadata": {
        "id": "jL-dERYWVdBq",
        "colab_type": "text"
      },
      "source": [
        "- Discuss how you created your database, tables, and inserted data (100 - 250 words)"
      ]
    },
    {
      "cell_type": "markdown",
      "metadata": {
        "id": "MgmteBYUVe2E",
        "colab_type": "text"
      },
      "source": [
        "- Provide all code to create and populate your database (similar to group assignment 4). \n"
      ]
    },
    {
      "cell_type": "markdown",
      "metadata": {
        "id": "WGPcFGiaVh-R",
        "colab_type": "text"
      },
      "source": [
        "- Create a scenario for an average user wanting to use your services, products, or activity. (100 - 250 words)"
      ]
    }
  ]
}