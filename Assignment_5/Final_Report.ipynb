{
  "nbformat": 4,
  "nbformat_minor": 0,
  "metadata": {
    "colab": {
      "name": "Group_Assignment_5.ipynb",
      "provenance": [],
      "collapsed_sections": [],
      "include_colab_link": true
    },
    "kernelspec": {
      "name": "python3",
      "display_name": "Python 3"
    }
  },
  "cells": [
    {
      "cell_type": "markdown",
      "metadata": {
        "id": "view-in-github",
        "colab_type": "text"
      },
      "source": [
        "<a href=\"https://colab.research.google.com/github/EliaHarel/IST210_PSU_Fall2019/blob/master/Assignment_5/Final_Report.ipynb\" target=\"_parent\"><img src=\"https://colab.research.google.com/assets/colab-badge.svg\" alt=\"Open In Colab\"/></a>"
      ]
    },
    {
      "cell_type": "markdown",
      "metadata": {
        "id": "fmvsG2zzkUWc",
        "colab_type": "text"
      },
      "source": [
        "#Best Buy\n",
        "\n",
        "Our group’s project is on our interpretation of how the Best Buy corporation would operate if we were in charge. This is not representative of how the real Best Buy corporation operates. The operation is an idea created by our group, but the name is borrowed by the real Best Buy corporation.\n",
        "\n",
        "We chose Best Buy because our entire group has a passion for electronics. From this passion, we thought it would be interesting to discuss how the electronics are sold and managed on a large scale. The whole corporation would have to worry about larger concerns, such as the reliability of a supplier, the performance of a store location, or the popularity of a product across all stores.\n",
        "\n",
        "After landing on Best Buy as an idea, we started by brainstorming tables, which would be what a corporation needs to keep track of. A corporation would need to worry about their customers, stores, employees, products, and suppliers. We eventually got to our final ER diagram by making the connections from one table to another. The diagram was finished when we were able to give rough estimates to the number of workers, stores, and products. "
      ]
    },
    {
      "cell_type": "code",
      "metadata": {
        "id": "IjTk12QNkZbn",
        "colab_type": "code",
        "outputId": "c8a0b78c-e87d-45bd-c3e5-89fb09e71a08",
        "colab": {
          "base_uri": "https://localhost:8080/",
          "height": 337
        }
      },
      "source": [
        "from IPython.display import IFrame\n",
        "IFrame(\"https://www.youtube.com/embed/e-ITacjLF-4\", 560, 316)\n",
        "\n"
      ],
      "execution_count": 0,
      "outputs": [
        {
          "output_type": "execute_result",
          "data": {
            "text/html": [
              "\n",
              "        <iframe\n",
              "            width=\"560\"\n",
              "            height=\"316\"\n",
              "            src=\"https://www.youtube.com/embed/e-ITacjLF-4\"\n",
              "            frameborder=\"0\"\n",
              "            allowfullscreen\n",
              "        ></iframe>\n",
              "        "
            ],
            "text/plain": [
              "<IPython.lib.display.IFrame at 0x7f717299e898>"
            ]
          },
          "metadata": {
            "tags": []
          },
          "execution_count": 6
        }
      ]
    },
    {
      "cell_type": "markdown",
      "metadata": {
        "id": "f9-B7i2gkgZO",
        "colab_type": "text"
      },
      "source": [
        "##ER Diagram\n",
        "\n",
        "![alt text](https://raw.githubusercontent.com/EliaHarel/IST210_PSU_Fall2019/0e55209a4fd855b89627c6f26ea532daf4fa5608/Assignment_4/Best_Buy_ERD.png)"
      ]
    },
    {
      "cell_type": "markdown",
      "metadata": {
        "id": "qUpLUmaXkhGE",
        "colab_type": "text"
      },
      "source": [
        "In our ER diagram, we have Stores table,Customers table, Workers table, Suppliers table, as well as Products tables. As every single Bestbuy workers will be working in a single store,they both have 1-1 relationship to each other, what's more, a Bestbuy store can have at least 1 workers and at most 1238 workers. A manager can be in charge of at least 1 workers and at most 1000000 workers. As the customers will shop at their preferred store, their relationship are both 1-1. The supplier will be the one who supplies the product to Bestbuy store, the relationship between the product and their supplier is both 1-1 since every single product has their unique supplier."
      ]
    },
    {
      "cell_type": "markdown",
      "metadata": {
        "id": "RpiM8CUHkl8K",
        "colab_type": "text"
      },
      "source": [
        "#####**Creating Database**\n",
        "In our data base, we first created tables for each of our tables from our ER diagram. Once the base table was put in, we filled each one with different information regarding which table it was. For example, the suppliers table got information such as the suppliers name, address, and email. For this we used the cursor.execute function to create the table, if it was already not made, and to insert a new value for each table, if the value was not already in that table. Once all this data is inserted we can run scenarios to achieve many different results as needed.\n"
      ]
    },
    {
      "cell_type": "code",
      "metadata": {
        "id": "oYUPjvMNoyTc",
        "colab_type": "code",
        "colab": {}
      },
      "source": [
        "import sqlite3\n",
        "connectionToDatabase = sqlite3.connect('BestBuy') \n",
        "cursor = connectionToDatabase.cursor()\n",
        "\n",
        "\n",
        "############################### Creating the tables ###############################\n",
        "cursor.execute('''CREATE TABLE IF NOT EXISTS Stores (storeID INT PRIMARY KEY, Address TEXT, Number_of_Workers INT, ManagerID INT, Phone_Number TEXT)''')\n",
        "cursor.execute('''CREATE TABLE IF NOT EXISTS Workers (workerID INT PRIMARY KEY, Name TEXT, Seniority INT, Salary REAL, StoreID INT)''')\n",
        "cursor.execute('''CREATE TABLE IF NOT EXISTS Customers (customerID INT PRIMARY KEY, Name TEXT, Email TEXT, Payment_Method TEXT, Store_Credit REAL, Preferred_Store INT)''')\n",
        "cursor.execute('''CREATE TABLE IF NOT EXISTS Product (ProductID INT PRIMARY KEY, Name TEXT, Retail_Price REAL, SupplierID INT, Unit_Sold INT)''')\n",
        "cursor.execute('''CREATE TABLE IF NOT EXISTS Suppliers (SupplierID INT PRIMARY KEY, Name TEXT, Address TEXT, Email TEXT, Balance REAL)''')\n",
        "connectionToDatabase.commit()\n",
        "\n",
        "########################## Insert values into the tables ##########################\n",
        "# Stores Table\n",
        "cursor.execute('''INSERT INTO Stores \tVALUES (10, '123 Street Rd', 17, 378, '555-123-4567')''')\n",
        "cursor.execute('''INSERT INTO Stores \tVALUES (11, '4263 Apple St', 26, 253, '555-634-6453')''')\n",
        "cursor.execute('''INSERT INTO Stores \tVALUES (12, '76 Vault Rd', 17, 783, '555-167-3645')''')\n",
        "cursor.execute('''INSERT INTO Stores \tVALUES (13, '253 Pollock Rd', 17, 265, '555-735-8254')''')\n",
        "cursor.execute('''INSERT INTO Stores \tVALUES (14, '42 Duglas Rd', 17, 734, '555-846-7463')''')\n",
        "# Workers Table\n",
        "cursor.execute('''INSERT INTO Workers \tVALUES (21, 'JaredJared', 2, 4000, 10)''')\n",
        "cursor.execute('''INSERT INTO Workers \tVALUES (22, 'EliaElia', 3, \t6000, 10)''')\n",
        "cursor.execute('''INSERT INTO Workers \tVALUES (23, 'GrantGrant', 5, 8000, 12)''')\n",
        "cursor.execute('''INSERT INTO Workers \tVALUES (24, 'BobbyBobby', 10, 7000, 12)''')\n",
        "cursor.execute('''INSERT INTO Workers \tVALUES (25, 'EliEli', 15, 7000, 13)''')\n",
        "# Customers Table\n",
        "cursor.execute('''INSERT INTO Customers VALUES (31, 'Jared', 'Jared@gmail.com',\t'Credit', 0, 11)''')\n",
        "cursor.execute('''INSERT INTO Customers VALUES (32, 'Elia', 'Elia@gmail.com', 'Bitcoin', 20, 12)''')\n",
        "cursor.execute('''INSERT INTO Customers VALUES (33, 'Grant', 'Grant@gmail.com',\t'Cash', 25, 13)''')\n",
        "cursor.execute('''INSERT INTO Customers VALUES (34, 'Bobby', 'Bobby@gmail.com', 'Debit', 10, 14)''')\n",
        "cursor.execute('''INSERT INTO Customers VALUES (35, 'Eli', 'Eli@gmail.com',\t'Bitcoin', 50, 15)''')\n",
        "cursor.execute('''INSERT INTO Customers VALUES (36, 'Dexter', 'Dexter@gmail.com','Cash', 0, 0)''')\n",
        "cursor.execute('''INSERT INTO Customers VALUES (37, 'Rick', 'Rick@gmail.com','Bitcoin', 0, 0)''')\n",
        "cursor.execute('''INSERT INTO Customers VALUES (38, 'Morty', 'Morty@gmail.com','Bitcoin', 0, 0)''')\n",
        "# Product Table\n",
        "cursor.execute('''INSERT INTO Product \tVALUES (41, 'Headphones', 300, 51, 0)''')\n",
        "cursor.execute('''INSERT INTO Product \tVALUES (42, 'Laptops', 400, 52, 20)''')\n",
        "cursor.execute('''INSERT INTO Product \tVALUES (43, \"TV\\'s\", 250, 53, 25)''')\n",
        "cursor.execute('''INSERT INTO Product \tVALUES (44, 'Mice', 100, 54, 10)''')\n",
        "cursor.execute('''INSERT INTO Product \tVALUES (45, 'Keyboards', 100, 55, 50)''')\n",
        "# Suppliers Table\n",
        "cursor.execute('''INSERT INTO Suppliers VALUES (51, 'Microsoft', '501 Street Rd', 'Microsoft@Microsoft.com',  0)''')\n",
        "cursor.execute('''INSERT INTO Suppliers VALUES (52, 'Amazon', '502 Street Rd', 'Amazon@Amazon.com', -1000)''')\n",
        "cursor.execute('''INSERT INTO Suppliers VALUES (53, 'Jaybird', '503 Street Rd', 'Jaybird@Jaybird.com', 1000)''')\n",
        "cursor.execute('''INSERT INTO Suppliers VALUES (54, 'Asus', '504 Street Rd', 'Asus@Asus.com', 5500)''')\n",
        "cursor.execute('''INSERT INTO Suppliers VALUES (55, 'Logistics', '505 Street Rd', 'Logistics@Logistics.com', -5000)''')\n",
        "connectionToDatabase.commit()"
      ],
      "execution_count": 0,
      "outputs": []
    },
    {
      "cell_type": "markdown",
      "metadata": {
        "id": "3JCV-XcokplY",
        "colab_type": "text"
      },
      "source": [
        "- Create a scenario for an average user wanting to use your services, products, or activity. (100 - 250 words)"
      ]
    },
    {
      "cell_type": "code",
      "metadata": {
        "id": "rr8sQrvkpqAP",
        "colab_type": "code",
        "colab": {}
      },
      "source": [
        "# Query Number 1\n",
        "cursor.execute('''SELECT SUM(Balance) FROM Suppliers''')\n",
        "for suppliers_balance_index in cursor.fetchall():\n",
        "  suppliers_balance = suppliers_balance_index[0]\n",
        "  print ('Our total suppliers balance is:', suppliers_balance)\n",
        "\n",
        "cursor.execute('''SELECT SUM(Retail_Price*Unit_Sold) FROM Product''')\n",
        "for total_revenue_index in cursor.fetchall():\n",
        "  total_revenue = total_revenue_index[0]\n",
        "  print ('Our total revenue from sold units is:', total_revenue)\n",
        "\n",
        "print ('Our total company balance is:', total_revenue+suppliers_balance)\n"
      ],
      "execution_count": 0,
      "outputs": []
    },
    {
      "cell_type": "markdown",
      "metadata": {
        "id": "KieZvJ23p9WT",
        "colab_type": "text"
      },
      "source": [
        "#####**Query 1 Explanation**\n",
        "To keep our profits high and to make sure we do not go into too high debt to any supplier, we would need to keep track of our total debt to our suppliers.\n",
        "\n",
        "In addition, we would want to know what our total revenue from selling products is. For example we would like to keep track of our balances with each supplier to confirm that the total is not negative (which is the sum of our suppliers’ debt and our revenues).\n",
        "\n",
        "Meaning, that our company is profitable."
      ]
    },
    {
      "cell_type": "code",
      "metadata": {
        "id": "yxwmIqrLpqZB",
        "colab_type": "code",
        "colab": {}
      },
      "source": [
        "# Query Number 2\n",
        "cursor.execute('''SELECT Name, Retail_Price, Unit_Sold FROM Product ORDER BY (Retail_Price*Unit_Sold) DESC LIMIT 3''')\n",
        "for top_product in cursor.fetchall():\n",
        "\tproduct_name = top_product[0]\n",
        "\tretail_price = top_product[1]\n",
        "\tunits_sold = top_product[2]\n",
        "\tprint ('Product Name:',product_name, ', Retail price:', retail_price, ', Number of units sold:',units_sold,', The total revenue is:',retail_price*units_sold, '.')\n"
      ],
      "execution_count": 0,
      "outputs": []
    },
    {
      "cell_type": "markdown",
      "metadata": {
        "id": "bLVbO3WFqFYA",
        "colab_type": "text"
      },
      "source": [
        "#####**Query 2 Explanation**\n",
        "Understanding what products are most profitable in the store is necessary for the company to help increase the total profit.\n",
        "\n",
        "Knowing what products sell the most allows the company to properly layout the store as well as have special offers to persuade people into buying more.\n",
        "\n",
        "Having products organized in such a way in the store can increase foot traffic as well as create more time customers spend in the store. This creates the option of them purchasing something they may not have necessarily come in for."
      ]
    },
    {
      "cell_type": "code",
      "metadata": {
        "id": "vz6AJQNWpqhP",
        "colab_type": "code",
        "colab": {}
      },
      "source": [
        "# Query Number 3\n",
        "cursor.execute('''SELECT Payment_Method, COUNT(Payment_Method) FROM Customers GROUP BY Payment_Method LIMIT 2''')\n",
        "for top_payment_method_index in cursor.fetchall():\n",
        "\ttop_payment_method = top_payment_method_index[0]\n",
        "\tnum_of_customers = top_payment_method_index[1]\n",
        "\tprint ('Payment method: ', end =\"\")\n",
        "\tprint (top_payment_method, end=\"\")\n",
        "\tprint (', Number of customers that use this method: ', end =\"\")\n",
        "\tprint (num_of_customers, end=\"\")\n",
        "\tprint ('.')\n"
      ],
      "execution_count": 0,
      "outputs": []
    },
    {
      "cell_type": "markdown",
      "metadata": {
        "id": "3fs2DG5ZmDv2",
        "colab_type": "text"
      },
      "source": [
        "#####**Query 3 Explanation**\n",
        "One of the most important things, and possibly \"The\" most important thing, for a corporation, is high customer satisfaction.\n",
        "\n",
        "As a result, our company will want to know as much information as possible about our customers. Knowing how our customers prefer to pay we will be able to make the most preferable payment methods easier to execute and much quicker for them. \n",
        "\n",
        "This can allow us to make their most preferable method as the default option when our users make a purchase to make their purchase quick and efficient.\n",
        "\n",
        "This will also reduce the amount of time customers are standing around waiting in line and increase their likelyhood of continuing to purchase at our company rather than others.\n"
      ]
    }
  ]
}