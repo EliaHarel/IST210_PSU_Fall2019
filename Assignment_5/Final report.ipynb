{
  "nbformat": 4,
  "nbformat_minor": 0,
  "metadata": {
    "colab": {
      "name": "IST210/Group_Assignment_5.ipynb",
      "provenance": [],
      "collapsed_sections": [],
      "include_colab_link": true
    },
    "kernelspec": {
      "name": "python3",
      "display_name": "Python 3"
    }
  },
  "cells": [
    {
      "cell_type": "markdown",
      "metadata": {
        "id": "view-in-github",
        "colab_type": "text"
      },
      "source": [
        "<a href=\"https://colab.research.google.com/github/EliaHarel/IST210_PSU_Fall2019/blob/master/Assignment_5/Final%20report.ipynb\" target=\"_parent\"><img src=\"https://colab.research.google.com/assets/colab-badge.svg\" alt=\"Open In Colab\"/></a>"
      ]
    },
    {
      "cell_type": "markdown",
      "metadata": {
        "id": "soMymuH6NiMZ",
        "colab_type": "text"
      },
      "source": [
        "#Best Buy\n",
        "#TODO introduction\n",
        "This will include why you picked this project, how you started this project, and how you got to your final ER diagram."
      ]
    },
    {
      "cell_type": "markdown",
      "metadata": {
        "id": "l-_rtSBdNqBs",
        "colab_type": "text"
      },
      "source": [
        " '<iframe width=\"560\" height=\"315\" src=\"./Group_Assignment_3_video.mp4\" frameborder=\"0\" allowfullscreen></iframe>'\n",
        " (video from group assignment 3)\n",
        "\n",
        "\n"
      ]
    }
  ]
}
