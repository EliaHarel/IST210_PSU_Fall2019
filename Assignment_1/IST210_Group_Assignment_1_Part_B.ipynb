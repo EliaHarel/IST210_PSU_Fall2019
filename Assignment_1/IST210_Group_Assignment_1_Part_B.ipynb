{
  "nbformat": 4,
  "nbformat_minor": 0,
  "metadata": {
    "colab": {
      "name": "IST210 - Group Assignment 1 - Part B.ipynb",
      "provenance": [],
      "collapsed_sections": [],
      "include_colab_link": true
    },
    "kernelspec": {
      "name": "python3",
      "display_name": "Python 3"
    }
  },
  "cells": [
    {
      "cell_type": "markdown",
      "metadata": {
        "id": "view-in-github",
        "colab_type": "text"
      },
      "source": [
        "<a href=\"https://colab.research.google.com/github/EliaHarel/IST_210_Assignment_1/blob/master/IST210_Group_Assignment_1_Part_B.ipynb\" target=\"_parent\"><img src=\"https://colab.research.google.com/assets/colab-badge.svg\" alt=\"Open In Colab\"/></a>"
      ]
    },
    {
      "cell_type": "markdown",
      "metadata": {
        "id": "ZHhFI89AF6o6",
        "colab_type": "text"
      },
      "source": [
        "#Best Buy Corp\n",
        "  One of our group’s ideas is an electronics store corporation. We use Best Buy as an example of a familiar electronics store. This is not representative of how the real Best Buy corporation operates. The operation is an idea created by our group, but the name is borrowed by the real Best Buy corporation. \n",
        "  \n",
        "  The electronics store idea is a unique example in that it focuses on the corporation as a whole, as opposed to a singular Best Buy. A corporation has to worry about larger concerns, such as the reliability of a supplier, the performance of a store location, or the popularity of a product across all stores. \n",
        "  \n",
        "\n",
        "To get some prespective, the revenue of consumer electronics stores in the U.S alone is around 76 billion USD a year,\n",
        "Best Buy's operating income amounted to about 1.8 billion USD.\n",
        "Best Buy has 1,238 stores worldwide, 1,026 of them are in the U.S. as of 2019.\n",
        "which mean that Best Buy's stores are selling products in an estimated value of 5 million usd, per day.\n",
        "\n",
        "\n",
        "  On a typical day at the Best Buy corporation headquarters, data is sent from multiple store locations and product suppliers. From the data that is collected, important decisions are made. Decisions such as whether or not to close a store location, how much supply to buy from a supplier, or whether or not to promote a specific worker based on performance.\n",
        "\n",
        "\n",
        "\n",
        "\n",
        "\n"
      ]
    },
    {
      "cell_type": "markdown",
      "metadata": {
        "id": "qY02LfWoWgZo",
        "colab_type": "text"
      },
      "source": [
        "-------------------------------------"
      ]
    },
    {
      "cell_type": "markdown",
      "metadata": {
        "id": "p5PK0Uz4WSsc",
        "colab_type": "text"
      },
      "source": [
        "  1. Customers\n",
        "\n",
        "    a.   Name - Letters\n",
        "\n",
        "    b.   Email - E-Mail format\n",
        "    \n",
        "    c.   Contact details\n",
        "    \n",
        "    d.   Number of purchases - Number from 0 to 2^64\n",
        "    \n",
        "    e.   Payment method - Selected from a list\n",
        "    \n",
        "    f.   Store credit - Number from 0 to 2^32\n",
        "\n",
        "\n",
        "  The customers table allows the stores to hold onto some customer details for future reference.\n",
        "Being able to hold some of this information is important because if there is ever a problem with product the customer has purchased, then the stores are able to know when it was purchased, what the product was, and how this product was purchased by the customer.\n",
        "\n",
        "Along with this, keeping the customers' names and email addresses, along with contact details allows them to get a hold of them for any reason.\n",
        "\n"
      ]
    },
    {
      "cell_type": "markdown",
      "metadata": {
        "id": "yTCPO-AyWaeW",
        "colab_type": "text"
      },
      "source": [
        "-------------------------------------"
      ]
    },
    {
      "cell_type": "markdown",
      "metadata": {
        "id": "ZHh3E59jWQJH",
        "colab_type": "text"
      },
      "source": [
        "  2.   Workers\n",
        "   \n",
        "   a.   Name - Letters\n",
        "\n",
        "   b.   Id - 9 digit number\n",
        "\n",
        "   c.   Seniority - Number from 0 to 80\n",
        "\n",
        "   d.   Salary - number between 0 to 1M (not minimum wage)\n",
        "\n",
        "   e.   Store ID (store that he works at) - Number\n",
        "\n",
        "    \n",
        "The Workers table allows the company to keep track of all their employees easier. It keeps their name and worker id all together as well as some more corporate information such as their salary and seniority. It also shows which store they work at from the store ID.\n"
      ]
    },
    {
      "cell_type": "markdown",
      "metadata": {
        "id": "CEKCdqrHWdAe",
        "colab_type": "text"
      },
      "source": [
        "-------------------------------------"
      ]
    },
    {
      "cell_type": "markdown",
      "metadata": {
        "id": "3PCZIAPaWM5N",
        "colab_type": "text"
      },
      "source": [
        "3.   Suppliers\n",
        "\n",
        "   a.   Name - Letters\n",
        "   \n",
        "   b.   Phone number - 3 digits in parenthesis, followed by 7 digits\n",
        "   \n",
        "   c.   Email - E-Mail format\n",
        "   \n",
        "   d.   Address\n",
        "   \n",
        "   e.   Balance - Number\n",
        "   \n",
        "       \n",
        "The Suppliers table allows the Best Buy corp to keep track of all their different suppliers. It not only tells them who the supplier is but also gives them all the information they would need to contact them, such as phone number and email. It also shows them the address of where the suppliers are located."
      ]
    },
    {
      "cell_type": "markdown",
      "metadata": {
        "id": "u1MjtQA0Wd2o",
        "colab_type": "text"
      },
      "source": [
        "-------------------------------------"
      ]
    },
    {
      "cell_type": "markdown",
      "metadata": {
        "id": "Dv6UCZCeWIrN",
        "colab_type": "text"
      },
      "source": [
        "4.   Products (end-user table)\n",
        "\n",
        "   a.   ID - 9 digit number\n",
        "   \n",
        "   b.   Name - Letters only\n",
        "   \n",
        "   c.   Retail Price - Number\n",
        "   \n",
        "   d.   Supplier - Letters\n",
        "   \n",
        "   e.   Number of Units Sold - Number\n",
        "   \n",
        "       \n",
        "The Products table allows Best Buy corp to keep inventory of all of their products they sell in store and online. Each product has an ID that correlates with its name through Best Buy corp. Along with the ID, this table shows the retail price of each product and the supplier of the product. Lastly, it shows how many units were sold to customers.\n"
      ]
    },
    {
      "cell_type": "markdown",
      "metadata": {
        "id": "BOz3gThAWed9",
        "colab_type": "text"
      },
      "source": [
        "-------------------------------------"
      ]
    },
    {
      "cell_type": "markdown",
      "metadata": {
        "id": "6RrrEfl1WDAs",
        "colab_type": "text"
      },
      "source": [
        "5.   Stores (end-user table)\n",
        "\n",
        "   a.   ID - 9 Digit number\n",
        "   \n",
        "   b.   Address\n",
        "   \n",
        "   c.   Number of workers - Number\n",
        "   \n",
        "   d.   Manager ID - 9 Digits number\n",
        "   \n",
        "   e.   Store’s phone number - 3 digits in parenthesis, followed by 7 digits \n",
        "   \n",
        "   \n",
        "The Stores table allows Best Buy corp to ID all of their stores together as well as showing them the address of each store. It also gives the number of workers currently working at a certain store and the manager who is running the store. This table also gives the store’s phone number for any specific needs they may have.    "
      ]
    },
    {
      "cell_type": "markdown",
      "metadata": {
        "id": "Cb_esQyZWfDB",
        "colab_type": "text"
      },
      "source": [
        "-------------------------------------"
      ]
    },
    {
      "cell_type": "markdown",
      "metadata": {
        "id": "0Brl5u93V9Cy",
        "colab_type": "text"
      },
      "source": [
        "### Best Buy's Goal\n",
        "Best Buy goal is, “to figure which suppliers are supplying the products that sell most units”.\n",
        "\n",
        "Best Buy will use the tables “Products” and “Suppliers” to answer this question.\n"
      ]
    },
    {
      "cell_type": "markdown",
      "metadata": {
        "id": "qSpwD2nBe7DK",
        "colab_type": "text"
      },
      "source": [
        "-------------------------------------"
      ]
    },
    {
      "cell_type": "markdown",
      "metadata": {
        "id": "mQdXUbnBejGM",
        "colab_type": "text"
      },
      "source": [
        "![alt text](https://i.postimg.cc/kGxTxsQH/ist210.png)\n",
        "\n",
        "\n",
        "\n",
        "\n"
      ]
    }
  ]
}