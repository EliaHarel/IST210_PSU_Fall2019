{
  "nbformat": 4,
  "nbformat_minor": 0,
  "metadata": {
    "colab": {
      "name": "Group Assignment 4.ipynb",
      "provenance": [],
      "collapsed_sections": [],
      "include_colab_link": true
    },
    "kernelspec": {
      "name": "python3",
      "display_name": "Python 3"
    }
  },
  "cells": [
    {
      "cell_type": "markdown",
      "metadata": {
        "id": "view-in-github",
        "colab_type": "text"
      },
      "source": [
        "<a href=\"https://colab.research.google.com/github/EliaHarel/IST210_Assignment_4/blob/master/Group_Assignment_4.ipynb\" target=\"_parent\"><img src=\"https://colab.research.google.com/assets/colab-badge.svg\" alt=\"Open In Colab\"/></a>"
      ]
    },
    {
      "cell_type": "code",
      "metadata": {
        "id": "uCmVgVTcaUka",
        "colab_type": "code",
        "colab": {}
      },
      "source": [
        "import sqlite3 # Once imported in a single notebook, it is available to us throughout the rest of the notebook. \n",
        "\n",
        "# connect to database, if not there, create it.\n",
        "connectionToDatabase = sqlite3.connect('BestBuy') \n",
        "# for interacting with our database we create a cursor to it.\n",
        "cursor = connectionToDatabase.cursor()\n",
        "\n",
        "# creating the tables\n",
        "cursor.execute('''CREATE TABLE IF NOT EXISTS Stores (storeID INT PRIMARY KEY, Address TEXT, number_of_workers INT, ManagerID INT, Phone_Number TEXT)''')\n",
        "cursor.execute('''CREATE TABLE IF NOT EXISTS Workers (workerID INT PRIMARY KEY, Name TEXT, Seniority INT, Salary REAL, StoreID INT)''')\n",
        "cursor.execute('''CREATE TABLE IF NOT EXISTS Customers (customerID INT PRIMARY KEY, Name TEXT, Email TEXT, Payment_Method TEXT, Store_Credit REAL, Preferred_Store INT)''')\n",
        "cursor.execute('''CREATE TABLE IF NOT EXISTS Product (ProductID INT PRIMARY KEY, Name TEXT, Retail_Price REAL, SupplierID INT, Unit_Sold INT)''')\n",
        "cursor.execute('''CREATE TABLE IF NOT EXISTS Suppliers (SupplierID INT PRIMARY KEY, Name TEXT, Address TEXT, Email Email, Balance REAL)''')\n",
        "connectionToDatabase.commit()"
      ],
      "execution_count": 0,
      "outputs": []
    },
    {
      "cell_type": "code",
      "metadata": {
        "id": "xIskmg-abhXh",
        "colab_type": "code",
        "colab": {}
      },
      "source": [
        ""
      ],
      "execution_count": 0,
      "outputs": []
    }
  ]
}