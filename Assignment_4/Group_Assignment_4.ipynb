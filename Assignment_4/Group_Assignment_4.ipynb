{
  "nbformat": 4,
  "nbformat_minor": 0,
  "metadata": {
    "colab": {
      "name": "Assignment_4/Group Assignment 4.ipynb",
      "provenance": [],
      "collapsed_sections": [],
      "include_colab_link": true
    },
    "kernelspec": {
      "name": "python3",
      "display_name": "Python 3"
    }
  },
  "cells": [
    {
      "cell_type": "markdown",
      "metadata": {
        "id": "view-in-github",
        "colab_type": "text"
      },
      "source": [
        "<a href=\"https://colab.research.google.com/github/EliaHarel/IST210_PSU_Fall2019/blob/master/Assignment_4/Group_Assignment_4.ipynb\" target=\"_parent\"><img src=\"https://colab.research.google.com/assets/colab-badge.svg\" alt=\"Open In Colab\"/></a>"
      ]
    },
    {
      "cell_type": "code",
      "metadata": {
        "id": "uCmVgVTcaUka",
        "colab_type": "code",
        "colab": {}
      },
      "source": [
        "import sqlite3\n",
        "connectionToDatabase = sqlite3.connect('BestBuy') \n",
        "cursor = connectionToDatabase.cursor()\n",
        "\n",
        "\n",
        "############################### Creating the tables ###############################\n",
        "cursor.execute('''CREATE TABLE IF NOT EXISTS Stores (storeID INT PRIMARY KEY, Address TEXT, Number_of_Workers INT, ManagerID INT, Phone_Number TEXT)''')\n",
        "cursor.execute('''CREATE TABLE IF NOT EXISTS Workers (workerID INT PRIMARY KEY, Name TEXT, Seniority INT, Salary REAL, StoreID INT)''')\n",
        "cursor.execute('''CREATE TABLE IF NOT EXISTS Customers (customerID INT PRIMARY KEY, Name TEXT, Email TEXT, Payment_Method TEXT, Store_Credit REAL, Preferred_Store INT)''')\n",
        "cursor.execute('''CREATE TABLE IF NOT EXISTS Product (ProductID INT PRIMARY KEY, Name TEXT, Retail_Price REAL, SupplierID INT, Unit_Sold INT)''')\n",
        "cursor.execute('''CREATE TABLE IF NOT EXISTS Suppliers (SupplierID INT PRIMARY KEY, Name TEXT, Address TEXT, Email TEXT, Balance REAL)''')\n",
        "connectionToDatabase.commit()\n",
        "\n",
        "########################## Insert values into the tables ##########################\n",
        "# Stores Table\n",
        "cursor.execute('''INSERT INTO Stores \tVALUES (10, '123 Street Rd', 17, 378, '555-123-4567')''')\n",
        "cursor.execute('''INSERT INTO Stores \tVALUES (11, '4263 Apple St', 26, 253, '555-634-6453')''')\n",
        "cursor.execute('''INSERT INTO Stores \tVALUES (12, '76 Vault Rd', 17, 783, '555-167-3645')''')\n",
        "cursor.execute('''INSERT INTO Stores \tVALUES (13, '253 Pollock Rd', 17, 265, '555-735-8254')''')\n",
        "cursor.execute('''INSERT INTO Stores \tVALUES (14, '42 Duglas Rd', 17, 734, '555-846-7463')''')\n",
        "# Workers Table\n",
        "cursor.execute('''INSERT INTO Workers \tVALUES (21, 'JaredJared', 2, 4000, 10)''')\n",
        "cursor.execute('''INSERT INTO Workers \tVALUES (22, 'EliaElia', 3, \t6000, 10)''')\n",
        "cursor.execute('''INSERT INTO Workers \tVALUES (23, 'GrantGrant', 5, 8000, 12)''')\n",
        "cursor.execute('''INSERT INTO Workers \tVALUES (24, 'BobbyBobby', 10, 7000, 12)''')\n",
        "cursor.execute('''INSERT INTO Workers \tVALUES (25, 'EliEli', 15, 7000, 13)''')\n",
        "# Customers Table\n",
        "cursor.execute('''INSERT INTO Customers VALUES (31, 'Jared', 'Jared@gmail.com',\t'Credit', 0, 11)''')\n",
        "cursor.execute('''INSERT INTO Customers VALUES (32, 'Elia', 'Elia@gmail.com', 'Bitcoin', 20, 12)''')\n",
        "cursor.execute('''INSERT INTO Customers VALUES (33, 'Grant', 'Grant@gmail.com',\t'Cash', 25, 13)''')\n",
        "cursor.execute('''INSERT INTO Customers VALUES (34, 'Bobby', 'Bobby@gmail.com', 'Debit', 10, 14)''')\n",
        "cursor.execute('''INSERT INTO Customers VALUES (35, 'Eli', 'Eli@gmail.com',\t'Bitcoin', 50, 15)''')\n",
        "cursor.execute('''INSERT INTO Customers VALUES (36, 'Dexter', 'Dexter@gmail.com','Cash', 0, 0)''')\n",
        "cursor.execute('''INSERT INTO Customers VALUES (37, 'Rick', 'Rick@gmail.com','Bitcoin', 0, 0)''')\n",
        "cursor.execute('''INSERT INTO Customers VALUES (38, 'Morty', 'Morty@gmail.com','Bitcoin', 0, 0)''')\n",
        "# Product Table\n",
        "cursor.execute('''INSERT INTO Product \tVALUES (41, 'Headphones', 300, 51, 0)''')\n",
        "cursor.execute('''INSERT INTO Product \tVALUES (42, 'Laptops', 400, 52, 20)''')\n",
        "cursor.execute('''INSERT INTO Product \tVALUES (43, \"TV\\'s\", 250, 53, 25)''')\n",
        "cursor.execute('''INSERT INTO Product \tVALUES (44, 'Mice', 100, 54, 10)''')\n",
        "cursor.execute('''INSERT INTO Product \tVALUES (45, 'Keyboards', 100, 55, 50)''')\n",
        "# Suppliers Table\n",
        "cursor.execute('''INSERT INTO Suppliers VALUES (51, 'Microsoft', '501 Street Rd', 'Microsoft@Microsoft.com',  0)''')\n",
        "cursor.execute('''INSERT INTO Suppliers VALUES (52, 'Amazon', '502 Street Rd', 'Amazon@Amazon.com', -1000)''')\n",
        "cursor.execute('''INSERT INTO Suppliers VALUES (53, 'Jaybird', '503 Street Rd', 'Jaybird@Jaybird.com', 1000)''')\n",
        "cursor.execute('''INSERT INTO Suppliers VALUES (54, 'Asus', '504 Street Rd', 'Asus@Asus.com', 5500)''')\n",
        "cursor.execute('''INSERT INTO Suppliers VALUES (55, 'Logistics', '505 Street Rd', 'Logistics@Logistics.com', -5000)''')\n",
        "connectionToDatabase.commit()"
      ],
      "execution_count": 0,
      "outputs": []
    },
    {
      "cell_type": "markdown",
      "metadata": {
        "id": "vy4Vvo61YuE9",
        "colab_type": "text"
      },
      "source": [
        "#ERD Diagram\n",
        "We did not change our ERD.\n",
        "![](./Best_Buy_ERD.png)"
      ]
    },
    {
      "cell_type": "markdown",
      "metadata": {
        "id": "8LANBObma0_T",
        "colab_type": "text"
      },
      "source": [
        "#**Questions**\n",
        "\n",
        "###**Question 1**\n",
        "What is the total Suppliers balance, what is total revenue from sold units, and what is the company balance (without customers store credit and worker's salaries)?"
      ]
    },
    {
      "cell_type": "code",
      "metadata": {
        "id": "dmvorsqLeoh5",
        "colab_type": "code",
        "outputId": "0ea20da9-7bc5-4a40-aab8-fffa794dcbde",
        "colab": {
          "base_uri": "https://localhost:8080/",
          "height": 74
        }
      },
      "source": [
        "cursor.execute('''SELECT SUM(Balance) FROM Suppliers''')\n",
        "for suppliers_balance_index in cursor.fetchall():\n",
        "  suppliers_balance = suppliers_balance_index[0]\n",
        "  print ('Our total suppliers balance is:', suppliers_balance)\n",
        "\n",
        "cursor.execute('''SELECT SUM(Retail_Price*Unit_Sold) FROM Product''')\n",
        "for total_revenue_index in cursor.fetchall():\n",
        "  total_revenue = total_revenue_index[0]\n",
        "  print ('Our total revenue from sold units is:', total_revenue)\n",
        "\n",
        "print ('Our total company balance is:', total_revenue+suppliers_balance)\n"
      ],
      "execution_count": 2,
      "outputs": [
        {
          "output_type": "stream",
          "text": [
            "Our total suppliers balance is: 500.0\n",
            "Our total revenue from sold units is: 20250.0\n",
            "Our total company balance is: 20750.0\n"
          ],
          "name": "stdout"
        }
      ]
    },
    {
      "cell_type": "markdown",
      "metadata": {
        "id": "hwAr1svwxpW_",
        "colab_type": "text"
      },
      "source": [
        "#####**Question 1 Explanation**\n",
        "To keep our profits high and to make sure we do not go into too high debt to any supplier, we would need to keep track of our total debt to our suppliers.\n",
        "\n",
        "In addition, we would want to know what is our total revenue from selling products. like that we will be able to make sure that our total balance (which is the sum of our suppliers’ debt and our revenues) is not negative.\n",
        "\n",
        "Meaning, that our company is profitable."
      ]
    },
    {
      "cell_type": "markdown",
      "metadata": {
        "colab_type": "text",
        "id": "3jcegKabywaX"
      },
      "source": [
        "--------------------------------------------------------------------------"
      ]
    },
    {
      "cell_type": "markdown",
      "metadata": {
        "id": "WjGutGg3ja7c",
        "colab_type": "text"
      },
      "source": [
        "###**Question 2**\n",
        "\n",
        "What are the 3 products from which we have earned the highest revenue, what are their names, retail prices, number of units sold and what is the total revenue from each one?"
      ]
    },
    {
      "cell_type": "code",
      "metadata": {
        "id": "MT1spukjlwAt",
        "colab_type": "code",
        "outputId": "9a95c1aa-2e7a-484f-c460-67b102620ccc",
        "colab": {
          "base_uri": "https://localhost:8080/",
          "height": 74
        }
      },
      "source": [
        "cursor.execute('''SELECT Name, Retail_Price, Unit_Sold FROM Product ORDER BY (Retail_Price*Unit_Sold) DESC LIMIT 3''')\n",
        "for top_product in cursor.fetchall():\n",
        "\tproduct_name = top_product[0]\n",
        "\tretail_price = top_product[1]\n",
        "\tunits_sold = top_product[2]\n",
        "\tprint ('Product Name:',product_name, ', Retail price:', retail_price, ', Number of units sold:',units_sold,', The total revenue is:',retail_price*units_sold, '.')\n"
      ],
      "execution_count": 3,
      "outputs": [
        {
          "output_type": "stream",
          "text": [
            "Product Name: Laptops , Retail price: 400.0 , Number of units sold: 20 , The total revenue is: 8000.0 .\n",
            "Product Name: TV's , Retail price: 250.0 , Number of units sold: 25 , The total revenue is: 6250.0 .\n",
            "Product Name: Keyboards , Retail price: 100.0 , Number of units sold: 50 , The total revenue is: 5000.0 .\n"
          ],
          "name": "stdout"
        }
      ]
    },
    {
      "cell_type": "markdown",
      "metadata": {
        "id": "hEY7XXvgvtKp",
        "colab_type": "text"
      },
      "source": [
        "#####**Question 2 Explanation**\n",
        "Our company would want to know what products are our most profitable, to put them in different locations in the store and make special offers for those procducts with other products. \n",
        "\n",
        "Which will make our customers spend more time in our store and see as much as possible products in our store."
      ]
    },
    {
      "cell_type": "markdown",
      "metadata": {
        "id": "cp3Lwa4dyoik",
        "colab_type": "text"
      },
      "source": [
        "--------------------------------------------------------------------------"
      ]
    },
    {
      "cell_type": "markdown",
      "metadata": {
        "id": "DaGaCyq8pNWy",
        "colab_type": "text"
      },
      "source": [
        "\n",
        "\n",
        "###**Question 3**\n",
        "what are the top 2 prefered payment method of our customers?\n",
        "and for the top prefered payment method, what are the names of all of the users that prefer that paynemt method?\n"
      ]
    },
    {
      "cell_type": "code",
      "metadata": {
        "id": "sifxC9BtpePJ",
        "colab_type": "code",
        "outputId": "78c4bda8-8642-41ca-e7e0-61a3ac3cec73",
        "colab": {
          "base_uri": "https://localhost:8080/",
          "height": 55
        }
      },
      "source": [
        "cursor.execute('''SELECT Payment_Method, COUNT(Payment_Method) FROM Customers GROUP BY Payment_Method LIMIT 2''')\n",
        "for top_payment_method_index in cursor.fetchall():\n",
        "\ttop_payment_method = top_payment_method_index[0]\n",
        "\tnum_of_customers = top_payment_method_index[1]\n",
        "\tprint ('Payment method: ', end =\"\")\n",
        "\tprint (top_payment_method, end=\"\")\n",
        "\tprint (', Number of customers that use this method: ', end =\"\")\n",
        "\tprint (num_of_customers, end=\"\")\n",
        "\tprint ('.')\n"
      ],
      "execution_count": 4,
      "outputs": [
        {
          "output_type": "stream",
          "text": [
            "Payment method: Bitcoin, Number of customers that use this method: 4.\n",
            "Payment method: Cash, Number of customers that use this method: 2.\n"
          ],
          "name": "stdout"
        }
      ]
    },
    {
      "cell_type": "markdown",
      "metadata": {
        "id": "ynN5zwGsxmvv",
        "colab_type": "text"
      },
      "source": [
        "#####**Question 3 Explanation**\n",
        "One of the most important things, and maybe The most important thing, for a corporate is high customer satisfaction.\n",
        "\n",
        "As a result, our company will want to know as much information as possible about our customers, by knowing how our customers prefer to pay we will be able to make the most preferable payment methods easier to execute, or to make the most preferable method as the default option when our users make a purchase.\n"
      ]
    },
    {
      "cell_type": "markdown",
      "metadata": {
        "colab_type": "text",
        "id": "O3d6DjjdyyK4"
      },
      "source": [
        "--------------------------------------------------------------------------"
      ]
    }
  ]
}