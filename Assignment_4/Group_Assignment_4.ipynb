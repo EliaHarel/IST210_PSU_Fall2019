{
  "nbformat": 4,
  "nbformat_minor": 0,
  "metadata": {
    "colab": {
      "name": "Assignment_4/Group Assignment 4.ipynb",
      "provenance": [],
      "collapsed_sections": [],
      "include_colab_link": true
    },
    "kernelspec": {
      "name": "python3",
      "display_name": "Python 3"
    }
  },
  "cells": [
    {
      "cell_type": "markdown",
      "metadata": {
        "id": "view-in-github",
        "colab_type": "text"
      },
      "source": [
        "<a href=\"https://colab.research.google.com/github/EliaHarel/IST210_PSU_Fall2019/blob/master/Assignment_4/Group_Assignment_4.ipynb\" target=\"_parent\"><img src=\"https://colab.research.google.com/assets/colab-badge.svg\" alt=\"Open In Colab\"/></a>"
      ]
    },
    {
      "cell_type": "code",
      "metadata": {
        "id": "uCmVgVTcaUka",
        "colab_type": "code",
        "colab": {}
      },
      "source": [
        "import sqlite3\n",
        "connectionToDatabase = sqlite3.connect('BestBuy') \n",
        "cursor = connectionToDatabase.cursor()\n",
        "\n",
        "\n",
        "############################### Creating the tables ###############################\n",
        "cursor.execute('''CREATE TABLE IF NOT EXISTS Stores (storeID INT PRIMARY KEY, Address TEXT, Number_of_Workers INT, ManagerID INT, Phone_Number TEXT)''')\n",
        "cursor.execute('''CREATE TABLE IF NOT EXISTS Workers (workerID INT PRIMARY KEY, Name TEXT, Seniority INT, Salary REAL, StoreID INT)''')\n",
        "cursor.execute('''CREATE TABLE IF NOT EXISTS Customers (customerID INT PRIMARY KEY, Name TEXT, Email TEXT, Payment_Method TEXT, Store_Credit REAL, Preferred_Store INT)''')\n",
        "cursor.execute('''CREATE TABLE IF NOT EXISTS Product (ProductID INT PRIMARY KEY, Name TEXT, Retail_Price REAL, SupplierID INT, Unit_Sold INT)''')\n",
        "cursor.execute('''CREATE TABLE IF NOT EXISTS Suppliers (SupplierID INT PRIMARY KEY, Name TEXT, Address TEXT, Email TEXT, Balance REAL)''')\n",
        "connectionToDatabase.commit()\n",
        "\n",
        "########################## Insert values into the tables ##########################\n",
        "# Stores Table\n",
        "cursor.execute('''INSERT INTO Stores \tVALUES (10, '123 Street Rd', 17, 378, '555-123-4567')''')\n",
        "cursor.execute('''INSERT INTO Stores \tVALUES (11, '4263 Apple St', 26, 253, '555-634-6453')''')\n",
        "cursor.execute('''INSERT INTO Stores \tVALUES (12, '76 Vault Rd', 17, 783, '555-167-3645')''')\n",
        "cursor.execute('''INSERT INTO Stores \tVALUES (13, '253 Pollock Rd', 17, 265, '555-735-8254')''')\n",
        "cursor.execute('''INSERT INTO Stores \tVALUES (14, '42 Duglas Rd', 17, 734, '555-846-7463')''')\n",
        "# Workers Table\n",
        "cursor.execute('''INSERT INTO Workers \tVALUES (21, 'JaredJared', 2, 4000, 10)''')\n",
        "cursor.execute('''INSERT INTO Workers \tVALUES (22, 'EliaElia', 3, \t6000, 10)''')\n",
        "cursor.execute('''INSERT INTO Workers \tVALUES (23, 'GrantGrant', 5, 8000, 12)''')\n",
        "cursor.execute('''INSERT INTO Workers \tVALUES (24, 'BobbyBobby', 10, 7000, 12)''')\n",
        "cursor.execute('''INSERT INTO Workers \tVALUES (25, 'EliEli', 15, 7000, 13)''')\n",
        "# Customers Table\n",
        "cursor.execute('''INSERT INTO Customers VALUES (31, 'Jared', 'Jared@Gmail.com',\t'Credit', 0, 11)''')\n",
        "cursor.execute('''INSERT INTO Customers VALUES (32, 'Elia', 'Elia@Gmail.com', 'Bitcon', 20, 12)''')\n",
        "cursor.execute('''INSERT INTO Customers VALUES (33, 'Grant', 'Grant@Gmail.com',\t'Cash', 25, 13)''')\n",
        "cursor.execute('''INSERT INTO Customers VALUES (34, 'Bobby', 'Bobby@Gmail.com',\t'Debit', 10, 14)''')\n",
        "cursor.execute('''INSERT INTO Customers VALUES (35, 'Eli', 'Eli@Gmail.com',\t  'Credit', 50, 15)''')\n",
        "# Product Table\n",
        "cursor.execute('''INSERT INTO Product \tVALUES (41, 'Headphones', 300, 51, 0)''')\n",
        "cursor.execute('''INSERT INTO Product \tVALUES (42, 'Laptops', 400, 52, 20)''')\n",
        "cursor.execute('''INSERT INTO Product \tVALUES (43, \"TV\\'s\", 250, 53, 25)''')\n",
        "cursor.execute('''INSERT INTO Product \tVALUES (44, 'Mice', 100, 54, 10)''')\n",
        "cursor.execute('''INSERT INTO Product \tVALUES (45, 'Keyboards', 100, 55, 50)''')\n",
        "# Suppliers Table\n",
        "cursor.execute('''INSERT INTO Suppliers VALUES (51, 'Microsoft', '501 Street Rd', 'Microsoft@Microsoft.com',  0)''')\n",
        "cursor.execute('''INSERT INTO Suppliers VALUES (52, 'Amazon', '502 Street Rd', 'Amazon@Amazon.com', -1000)''')\n",
        "cursor.execute('''INSERT INTO Suppliers VALUES (53, 'Jaybird', '503 Street Rd', 'Jaybird@Jaybird.com', 1000)''')\n",
        "cursor.execute('''INSERT INTO Suppliers VALUES (54, 'Asus', '504 Street Rd', 'Asus@Asus.com', 5500)''')\n",
        "cursor.execute('''INSERT INTO Suppliers VALUES (55, 'Logistics', '505 Street Rd', 'Logistics@Logistics.com', -5000)''')\n",
        "connectionToDatabase.commit()"
      ],
      "execution_count": 0,
      "outputs": []
    },
    {
      "cell_type": "markdown",
      "metadata": {
        "id": "vy4Vvo61YuE9",
        "colab_type": "text"
      },
      "source": [
        "#ERD Diagram\n",
        "We did not change our ERD.\n",
        "![](./Best_Buy_ERD.png)"
      ]
    },
    {
      "cell_type": "markdown",
      "metadata": {
        "id": "8LANBObma0_T",
        "colab_type": "text"
      },
      "source": [
        "#**Questions**\n",
        "\n",
        "#####Question 1\n",
        "What is the total Suppliers balance, what is total revenue from sold units, and what is the company balance (without customers store credit)?"
      ]
    },
    {
      "cell_type": "code",
      "metadata": {
        "id": "dmvorsqLeoh5",
        "colab_type": "code",
        "outputId": "705e6590-96c4-4b00-8257-6dca0b688bf6",
        "colab": {
          "base_uri": "https://localhost:8080/",
          "height": 74
        }
      },
      "source": [
        "cursor.execute('''SELECT SUM(Balance) FROM Suppliers''')\n",
        "for suppliers_balance_index in cursor.fetchall():\n",
        "  suppliers_balance = suppliers_balance_index[0]\n",
        "  print ('Our total suppliers balance is:', suppliers_balance)\n",
        "\n",
        "cursor.execute('''SELECT SUM(Retail_Price*Unit_Sold) FROM Product''')\n",
        "for total_revenue_index in cursor.fetchall():\n",
        "  total_revenue = total_revenue_index[0]\n",
        "  print ('Our total revenue from sold units is:', total_revenue)\n",
        "\n",
        "print ('Our total company balance is:', total_revenue+suppliers_balance)\n"
      ],
      "execution_count": 8,
      "outputs": [
        {
          "output_type": "stream",
          "text": [
            "Our total suppliers balance is: 500.0\n",
            "Our total revenue from sold units is: 20250.0\n",
            "Our total company balance is: 20750.0\n"
          ],
          "name": "stdout"
        }
      ]
    },
    {
      "cell_type": "markdown",
      "metadata": {
        "id": "WjGutGg3ja7c",
        "colab_type": "text"
      },
      "source": [
        "Question 2\n",
        "\n",
        "What are the 3 products from which we have earned the highest revenue, what are their names, retail prices, number of units sold and what is the total revenue from each one?"
      ]
    },
    {
      "cell_type": "code",
      "metadata": {
        "id": "MT1spukjlwAt",
        "colab_type": "code",
        "colab": {
          "base_uri": "https://localhost:8080/",
          "height": 74
        },
        "outputId": "b97bd250-9127-44a2-dcbc-94321d9611b7"
      },
      "source": [
        "cursor.execute('''SELECT Name, Retail_Price, Unit_Sold FROM Product ORDER BY (Retail_Price*Unit_Sold) DESC LIMIT 3''')\n",
        "for top_product in cursor.fetchall():\n",
        "\tproduct_name = top_product[0]\n",
        "\tretail_price = top_product[1]\n",
        "\tunits_sold = top_product[2]\n",
        "\tprint ('Product Name:',product_name, ', Retail price:', retail_price, ', Number of units sold:',units_sold,', The total revenue is:',retail_price*units_sold, '.')\n"
      ],
      "execution_count": 15,
      "outputs": [
        {
          "output_type": "stream",
          "text": [
            "Product Name: Laptops , Retail price: 400.0 , Number of units sold: 20 , The total revenue is: 8000.0 .\n",
            "Product Name: TV's , Retail price: 250.0 , Number of units sold: 25 , The total revenue is: 6250.0 .\n",
            "Product Name: Keyboards , Retail price: 100.0 , Number of units sold: 50 , The total revenue is: 5000.0 .\n"
          ],
          "name": "stdout"
        }
      ]
    }
  ]
}