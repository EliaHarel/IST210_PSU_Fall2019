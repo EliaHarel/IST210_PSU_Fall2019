{
  "nbformat": 4,
  "nbformat_minor": 0,
  "metadata": {
    "colab": {
      "name": "Assignment_4/Group Assignment 4.ipynb",
      "provenance": [],
      "collapsed_sections": [],
      "include_colab_link": true
    },
    "kernelspec": {
      "name": "python3",
      "display_name": "Python 3"
    }
  },
  "cells": [
    {
      "cell_type": "markdown",
      "metadata": {
        "id": "view-in-github",
        "colab_type": "text"
      },
      "source": [
        "<a href=\"https://colab.research.google.com/github/EliaHarel/IST210_PSU_Fall2019/blob/master/Assignment_4/Group_Assignment_4.ipynb\" target=\"_parent\"><img src=\"https://colab.research.google.com/assets/colab-badge.svg\" alt=\"Open In Colab\"/></a>"
      ]
    },
    {
      "cell_type": "code",
      "metadata": {
        "id": "uCmVgVTcaUka",
        "colab_type": "code",
        "colab": {}
      },
      "source": [
        "import sqlite3\n",
        "connectionToDatabase = sqlite3.connect('BestBuy') \n",
        "cursor = connectionToDatabase.cursor()\n",
        "\n",
        "\n",
        "############################### Creating the tables ###############################\n",
        "cursor.execute('''CREATE TABLE IF NOT EXISTS Stores    (storeID    INT PRIMARY KEY,  Address TEXT, Number_of_Workers INT, \t ManagerID INT, \t\t  Phone_Number TEXT\t\t\t\t\t\t          )''')\n",
        "cursor.execute('''CREATE TABLE IF NOT EXISTS Workers   (workerID   INT PRIMARY KEY,  Name TEXT,\t   Seniority INT,            Salary REAL, \t\t\t  StoreID INT\t\t\t\t\t\t\t\t            )''')\n",
        "cursor.execute('''CREATE TABLE IF NOT EXISTS Customers (customerID INT PRIMARY KEY,  Name TEXT, \t Email TEXT,               Payment_Method TEXT, Store_Credit REAL, Preferred_Store INT)''')\n",
        "cursor.execute('''CREATE TABLE IF NOT EXISTS Product   (ProductID  INT PRIMARY KEY,  Name TEXT, \t Retail_Price REAL,        SupplierID INT, \t\t  Unit_Sold INT\t\t\t\t\t\t\t            )''')\n",
        "cursor.execute('''CREATE TABLE IF NOT EXISTS Suppliers (SupplierID INT PRIMARY KEY,  Name TEXT, \t Address TEXT,             Email TEXT,          Balance REAL\t\t\t\t\t\t\t\t\t        )''')\n",
        "connectionToDatabase.commit()\n",
        "\n",
        "########################## Insert values into the tables ##########################\n",
        "# Stores Table\n",
        "cursor.execute('''INSERT INTO Stores \t  VALUES (10, '123 Street Rd', \t17, 378, '555-123-4567')''')\n",
        "cursor.execute('''INSERT INTO Stores \t  VALUES (11, '4263 Apple St', \t26, 253, '555-634-6453')''')\n",
        "cursor.execute('''INSERT INTO Stores \t  VALUES (12, '76 Vault Rd', \t  17, 783, '555-167-3645')''')\n",
        "cursor.execute('''INSERT INTO Stores \t  VALUES (13, '253 Pollock Rd', 17, 265, '555-735-8254')''')\n",
        "cursor.execute('''INSERT INTO Stores \t  VALUES (14, '42 Duglas Rd', \t17, 734, '555-846-7463')''')\n",
        "# Workers Table\n",
        "cursor.execute('''INSERT INTO Workers \tVALUES (21, 'JaredJared', 2, \t4000, 10)''')\n",
        "cursor.execute('''INSERT INTO Workers \tVALUES (22, 'EliaElia', \t3, \t6000, 10)''')\n",
        "cursor.execute('''INSERT INTO Workers \tVALUES (23, 'GrantGrant', 5, \t8000, 12)''')\n",
        "cursor.execute('''INSERT INTO Workers \tVALUES (24, 'BobbyBobby', 10, 7000, 12)''')\n",
        "cursor.execute('''INSERT INTO Workers \tVALUES (25, 'EliEli', \t  15, 7000, 13)''')\n",
        "# Customers Table\n",
        "cursor.execute('''INSERT INTO Customers VALUES (31, 'Jared', \t'Jared@Gmail.com',\t'Credit', 0, \t11)''')\n",
        "cursor.execute('''INSERT INTO Customers VALUES (32, 'Elia', \t'Elia@Gmail.com',\t  'Bitcon', 20, 12)''')\n",
        "cursor.execute('''INSERT INTO Customers VALUES (33, 'Grant', \t'Grant@Gmail.com',\t'Cash',   25, 13)''')\n",
        "cursor.execute('''INSERT INTO Customers VALUES (34, 'Bobby', \t'Bobby@Gmail.com',\t'Debit', \t10, 14)''')\n",
        "cursor.execute('''INSERT INTO Customers VALUES (35, 'Eli', \t\t'Eli@Gmail.com',\t  'Credit', 50, 15)''')\n",
        "# Product Table\n",
        "cursor.execute('''INSERT INTO Product \tVALUES (41, 'Headphones', 300, 51, 0)''')\n",
        "cursor.execute('''INSERT INTO Product \tVALUES (42, 'Laptops', \t  400, 52, 20)''')\n",
        "cursor.execute('''INSERT INTO Product \tVALUES (43, \"TV\\'s\", \t\t  250, 53, 25)''')\n",
        "cursor.execute('''INSERT INTO Product \tVALUES (44, 'Mice', \t\t  100, 54, 10)''')\n",
        "cursor.execute('''INSERT INTO Product \tVALUES (45, 'Keyboards', \t100, 55, 50)''')\n",
        "# Suppliers Table\n",
        "cursor.execute('''INSERT INTO Suppliers VALUES (51, 'Microsoft', '501 Street Rd', 'Microsoft@Microsoft.com',  0)''')\n",
        "cursor.execute('''INSERT INTO Suppliers VALUES (52, 'Amazon',\t   '502 Street Rd', 'Amazon@Amazon.com',\t\t   -1000)''')\n",
        "cursor.execute('''INSERT INTO Suppliers VALUES (53, 'Jaybird',\t '503 Street Rd', 'Jaybird@Jaybird.com',\t    1000)''')\n",
        "cursor.execute('''INSERT INTO Suppliers VALUES (54, 'Asus',\t\t   '504 Street Rd', 'Asus@Asus.com',\t\t\t      5000)''')\n",
        "cursor.execute('''INSERT INTO Suppliers VALUES (55, 'Logistics', '505 Street Rd', 'Logistics@Logistics.com', -5000)''')"
      ],
      "execution_count": 0,
      "outputs": []
    },
    {
      "cell_type": "markdown",
      "metadata": {
        "id": "vy4Vvo61YuE9",
        "colab_type": "text"
      },
      "source": [
        "#ERD Diagram\n",
        "![](./ERD.png)"
      ]
    }
  ]
}