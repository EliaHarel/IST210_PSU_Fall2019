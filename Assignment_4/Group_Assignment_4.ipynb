{
  "nbformat": 4,
  "nbformat_minor": 0,
  "metadata": {
    "colab": {
      "name": "Assignment_4/Group Assignment 4.ipynb",
      "provenance": [],
      "collapsed_sections": [],
      "include_colab_link": true
    },
    "kernelspec": {
      "name": "python3",
      "display_name": "Python 3"
    }
  },
  "cells": [
    {
      "cell_type": "markdown",
      "metadata": {
        "id": "view-in-github",
        "colab_type": "text"
      },
      "source": [
        "<a href=\"https://colab.research.google.com/github/EliaHarel/IST210_PSU_Fall2019/blob/master/Assignment_4/Group_Assignment_4.ipynb\" target=\"_parent\"><img src=\"https://colab.research.google.com/assets/colab-badge.svg\" alt=\"Open In Colab\"/></a>"
      ]
    },
    {
      "cell_type": "code",
      "metadata": {
        "id": "uCmVgVTcaUka",
        "colab_type": "code",
        "colab": {}
      },
      "source": [
        "import sqlite3\n",
        "connectionToDatabase = sqlite3.connect('BestBuy') \n",
        "cursor = connectionToDatabase.cursor()\n",
        "\n",
        "\n",
        "############################### Creating the tables ###############################\n",
        "cursor.execute('''CREATE TABLE IF NOT EXISTS Stores (storeID INT PRIMARY KEY, Address TEXT, Number_of_Workers INT, ManagerID INT, Phone_Number TEXT)''')\n",
        "cursor.execute('''CREATE TABLE IF NOT EXISTS Workers (workerID INT PRIMARY KEY, Name TEXT, Seniority INT, Salary REAL, StoreID INT)''')\n",
        "cursor.execute('''CREATE TABLE IF NOT EXISTS Customers (customerID INT PRIMARY KEY, Name TEXT, Email TEXT, Payment_Method TEXT, Store_Credit REAL, Preferred_Store INT)''')\n",
        "cursor.execute('''CREATE TABLE IF NOT EXISTS Product (ProductID INT PRIMARY KEY, Name TEXT, Retail_Price REAL, SupplierID INT, Unit_Sold INT)''')\n",
        "cursor.execute('''CREATE TABLE IF NOT EXISTS Suppliers (SupplierID INT PRIMARY KEY, Name TEXT, Address TEXT, Email TEXT, Balance REAL)''')\n",
        "connectionToDatabase.commit()\n",
        "\n",
        "########################## Insert values into the tables ##########################\n",
        "# Stores Table\n",
        "cursor.execute('''INSERT INTO Stores \tVALUES (10, '123 Street Rd', 17, 378, '555-123-4567')''')\n",
        "cursor.execute('''INSERT INTO Stores \tVALUES (11, '4263 Apple St', 26, 253, '555-634-6453')''')\n",
        "cursor.execute('''INSERT INTO Stores \tVALUES (12, '76 Vault Rd', 17, 783, '555-167-3645')''')\n",
        "cursor.execute('''INSERT INTO Stores \tVALUES (13, '253 Pollock Rd', 17, 265, '555-735-8254')''')\n",
        "cursor.execute('''INSERT INTO Stores \tVALUES (14, '42 Duglas Rd', 17, 734, '555-846-7463')''')\n",
        "# Workers Table\n",
        "cursor.execute('''INSERT INTO Workers \tVALUES (21, 'JaredJared', 2, 4000, 10)''')\n",
        "cursor.execute('''INSERT INTO Workers \tVALUES (22, 'EliaElia', 3, \t6000, 10)''')\n",
        "cursor.execute('''INSERT INTO Workers \tVALUES (23, 'GrantGrant', 5, 8000, 12)''')\n",
        "cursor.execute('''INSERT INTO Workers \tVALUES (24, 'BobbyBobby', 10, 7000, 12)''')\n",
        "cursor.execute('''INSERT INTO Workers \tVALUES (25, 'EliEli', 15, 7000, 13)''')\n",
        "# Customers Table\n",
        "cursor.execute('''INSERT INTO Customers VALUES (31, 'Jared', 'Jared@Gmail.com',\t'Credit', 0, 11)''')\n",
        "cursor.execute('''INSERT INTO Customers VALUES (32, 'Elia', 'Elia@Gmail.com', 'Bitcon', 20, 12)''')\n",
        "cursor.execute('''INSERT INTO Customers VALUES (33, 'Grant', 'Grant@Gmail.com',\t'Cash', 25, 13)''')\n",
        "cursor.execute('''INSERT INTO Customers VALUES (34, 'Bobby', 'Bobby@Gmail.com',\t'Debit', 10, 14)''')\n",
        "cursor.execute('''INSERT INTO Customers VALUES (35, 'Eli', 'Eli@Gmail.com',\t  'Credit', 50, 15)''')\n",
        "# Product Table\n",
        "cursor.execute('''INSERT INTO Product \tVALUES (41, 'Headphones', 300, 51, 0)''')\n",
        "cursor.execute('''INSERT INTO Product \tVALUES (42, 'Laptops', 400, 52, 20)''')\n",
        "cursor.execute('''INSERT INTO Product \tVALUES (43, \"TV\\'s\", 250, 53, 25)''')\n",
        "cursor.execute('''INSERT INTO Product \tVALUES (44, 'Mice', 100, 54, 10)''')\n",
        "cursor.execute('''INSERT INTO Product \tVALUES (45, 'Keyboards', 100, 55, 50)''')\n",
        "# Suppliers Table\n",
        "cursor.execute('''INSERT INTO Suppliers VALUES (51, 'Microsoft', '501 Street Rd', 'Microsoft@Microsoft.com',  0)''')\n",
        "cursor.execute('''INSERT INTO Suppliers VALUES (52, 'Amazon', '502 Street Rd', 'Amazon@Amazon.com', -1000)''')\n",
        "cursor.execute('''INSERT INTO Suppliers VALUES (53, 'Jaybird', '503 Street Rd', 'Jaybird@Jaybird.com', 1000)''')\n",
        "cursor.execute('''INSERT INTO Suppliers VALUES (54, 'Asus', '504 Street Rd', 'Asus@Asus.com', 5000)''')\n",
        "cursor.execute('''INSERT INTO Suppliers VALUES (55, 'Logistics', '505 Street Rd', 'Logistics@Logistics.com', -5000)''')"
      ],
      "execution_count": 0,
      "outputs": []
    },
    {
      "cell_type": "markdown",
      "metadata": {
        "id": "vy4Vvo61YuE9",
        "colab_type": "text"
      },
      "source": [
        "#ERD Diagram\n",
        "We did not change the diagram\n",
        "![](./Best_Buy_ERD.png)"
      ]
    },
    {
      "cell_type": "markdown",
      "metadata": {
        "id": "8LANBObma0_T",
        "colab_type": "text"
      },
      "source": [
        "#**Questions**\n",
        "\n",
        "#####Question 1\n",
        "What is the total balance "
      ]
    }
  ]
}
