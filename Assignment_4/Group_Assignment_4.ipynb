{
  "nbformat": 4,
  "nbformat_minor": 0,
  "metadata": {
    "colab": {
      "name": "Group Assignment 4.ipynb",
      "provenance": [],
      "collapsed_sections": [],
      "include_colab_link": true
    },
    "kernelspec": {
      "name": "python3",
      "display_name": "Python 3"
    }
  },
  "cells": [
    {
      "cell_type": "markdown",
      "metadata": {
        "id": "view-in-github",
        "colab_type": "text"
      },
      "source": [
        "<a href=\"https://colab.research.google.com/github/EliaHarel/IST210_PSU_Fall2019/blob/master/Assignment_4/Group_Assignment_4.ipynb\" target=\"_parent\"><img src=\"https://colab.research.google.com/assets/colab-badge.svg\" alt=\"Open In Colab\"/></a>"
      ]
    },
    {
      "cell_type": "code",
      "metadata": {
        "id": "uCmVgVTcaUka",
        "colab_type": "code",
        "outputId": "75a65f4a-31ef-4121-e66f-a1375481a0bd",
        "colab": {
          "base_uri": "https://localhost:8080/",
          "height": 112
        }
      },
      "source": [
        "import sqlite3 # Once imported in a single notebook, it is available to us throughout the rest of the notebook. \n",
        "\n",
        "# connect to database, if not there, create it.\n",
        "connectionToDatabase = sqlite3.connect('BestBuy') \n",
        "# for interacting with our database we create a cursor to it.\n",
        "cursor = connectionToDatabase.cursor()\n",
        "\n",
        "# creating the tables\n",
        "cursor.execute('''CREATE TABLE IF NOT EXISTS Stores (storeID INT PRIMARY KEY, Address TEXT, number_of_workers INT, ManagerID INT, Phone_Number TEXT)''')\n",
        "cursor.execute('''CREATE TABLE IF NOT EXISTS Workers (workerID INT PRIMARY KEY, Name TEXT, Seniority INT, Salary REAL, StoreID INT)''')\n",
        "cursor.execute('''CREATE TABLE IF NOT EXISTS Customers (customerID INT PRIMARY KEY, Name TEXT, Email TEXT, Payment_Method TEXT, Store_Credit REAL, Preferred_Store INT)''')\n",
        "cursor.execute('''CREATE TABLE IF NOT EXISTS Product (ProductID INT PRIMARY KEY, Name TEXT, Retail_Price REAL, SupplierID INT, Unit_Sold INT)''')\n",
        "cursor.execute('''CREATE TABLE IF NOT EXISTS Suppliers (SupplierID INT PRIMARY KEY, Name TEXT, Address TEXT, Email TEXT, Balance REAL)''')\n",
        "connectionToDatabase.commit()\n",
        "\n",
        "# insert into the tables\n",
        "cursor.execute('''INSERT INTO Stores \tVALUES (10, '123 Street Rd', \t17, 378, '555-123-4567')''')\n",
        "cursor.execute('''INSERT INTO Stores \tVALUES (11, '4263 Apple St', \t26, 253, '555-634-6453')''')\n",
        "cursor.execute('''INSERT INTO Stores \tVALUES (12, '76 Vault Rd', \t17, 783, '555-167-3645')''')\n",
        "cursor.execute('''INSERT INTO Stores \tVALUES (13, '253 Pollock Rd', \t17, 265, '555-735-8254')''')\n",
        "cursor.execute('''INSERT INTO Stores \tVALUES (14, '42 Duglas Rd', \t17, 734, '555-846-7463')''')\n",
        "###########################\n",
        "cursor.execute('''INSERT INTO Workers \tVALUES (21, 'JaredJared', 2, \t4000, 10)''')\n",
        "cursor.execute('''INSERT INTO Workers \tVALUES (22, 'EliaElia', \t3, \t6000, 10)''')\n",
        "cursor.execute('''INSERT INTO Workers \tVALUES (23, 'GrantGrant', 5, \t8000, 12)''')\n",
        "cursor.execute('''INSERT INTO Workers \tVALUES (24, 'BobbyBobby', 10, 7000, 12)''')\n",
        "cursor.execute('''INSERT INTO Workers \tVALUES (25, 'EliEli', \t15, 7000, 13)''')\n",
        "###########################\n",
        "cursor.execute('''INSERT INTO Customers VALUES (31, 'Jared', \t'Jared@Gmail.com',\t'Credit', \t0, \t11)''')\n",
        "cursor.execute('''INSERT INTO Customers VALUES (32, 'Elia', \t'Elia@Gmail.com',\t'Bitcon', \t20, 12)''')\n",
        "cursor.execute('''INSERT INTO Customers VALUES (33, 'Grant', \t'Grant@Gmail.com',\t'Cash', \t25, 13)''')\n",
        "cursor.execute('''INSERT INTO Customers VALUES (34, 'Bobby', \t'Bobby@Gmail.com',\t'Debit', \t10, 14)''')\n",
        "cursor.execute('''INSERT INTO Customers VALUES (35, 'Eli', \t\t'Eli@Gmail.com',\t'Credit', \t50, 15)''')\n",
        "###########################\n",
        "cursor.execute('''INSERT INTO Product \tVALUES (41, 'Headphones', 300, 51, 0)''')\n",
        "cursor.execute('''INSERT INTO Product \tVALUES (42, 'Laptops', \t400, 52, 20)''')\n",
        "cursor.execute('''INSERT INTO Product \tVALUES (43, \"TV\\'s\", \t\t250, 53, 25)''')\n",
        "cursor.execute('''INSERT INTO Product \tVALUES (44, 'Mice', \t\t100, 54, 10)''')\n",
        "cursor.execute('''INSERT INTO Product \tVALUES (45, 'Keyboards', \t100, 55, 50)''')\n",
        "###########################\n",
        "cursor.execute('''INSERT INTO Suppliers VALUES (51, 'Microsoft', '501 Street Rd', 'Microsoft@Microsoft.com',     0)''')\n",
        "cursor.execute('''INSERT INTO Suppliers VALUES (52, 'Amazon',\t '502 Street Rd', 'Amazon@Amazon.com',\t\t -1000)''')\n",
        "cursor.execute('''INSERT INTO Suppliers VALUES (53, 'Jaybird',\t '503 Street Rd', 'Jaybird@Jaybird.com',\t  1000)''')\n",
        "cursor.execute('''INSERT INTO Suppliers VALUES (54, 'Asus',\t\t '504 Street Rd', 'Asus@Asus.com',\t\t\t  5000)''')\n",
        "cursor.execute('''INSERT INTO Suppliers VALUES (55, 'Logistics', '505 Street Rd', 'Logistics@Logistics.com', -5000)''')\n",
        "\n",
        "\n",
        "\n",
        "cursor.execute('''SELECT * FROM Stores''')\n",
        "for row in cursor.fetchall():\n",
        "  print (row)"
      ],
      "execution_count": 2,
      "outputs": [
        {
          "output_type": "stream",
          "text": [
            "(10, '123 Street Rd', 17, 378, '555-123-4567')\n",
            "(11, '4263 Apple St', 26, 253, '555-634-6453')\n",
            "(12, '76 Vault Rd', 17, 783, '555-167-3645')\n",
            "(13, '253 Pollock Rd', 17, 265, '555-735-8254')\n",
            "(14, '42 Duglas Rd', 17, 734, '555-846-7463')\n"
          ],
          "name": "stdout"
        }
      ]
    },
    {
      "cell_type": "code",
      "metadata": {
        "id": "v8zKBDkAyFB8",
        "colab_type": "code",
        "colab": {}
      },
      "source": [
        ""
      ],
      "execution_count": 0,
      "outputs": []
    },
    {
      "cell_type": "code",
      "metadata": {
        "id": "xIskmg-abhXh",
        "colab_type": "code",
        "colab": {}
      },
      "source": [
        ""
      ],
      "execution_count": 0,
      "outputs": []
    }
  ]
}